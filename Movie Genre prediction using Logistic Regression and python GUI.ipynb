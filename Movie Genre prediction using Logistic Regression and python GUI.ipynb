{
 "cells": [
  {
   "cell_type": "code",
   "execution_count": 11,
   "id": "b01795d3",
   "metadata": {},
   "outputs": [
    {
     "name": "stderr",
     "output_type": "stream",
     "text": [
      "[nltk_data] Downloading package punkt to C:\\Users\\FATTANI\n",
      "[nltk_data]     COMPUTERS\\AppData\\Roaming\\nltk_data...\n",
      "[nltk_data]   Package punkt is already up-to-date!\n",
      "[nltk_data] Downloading package stopwords to C:\\Users\\FATTANI\n",
      "[nltk_data]     COMPUTERS\\AppData\\Roaming\\nltk_data...\n",
      "[nltk_data]   Package stopwords is already up-to-date!\n"
     ]
    },
    {
     "data": {
      "text/plain": [
       "True"
      ]
     },
     "execution_count": 11,
     "metadata": {},
     "output_type": "execute_result"
    }
   ],
   "source": [
    "import pandas as pd\n",
    "import re\n",
    "import joblib\n",
    "import nltk\n",
    "from nltk.corpus import stopwords\n",
    "from nltk.stem import PorterStemmer\n",
    "from sklearn.feature_extraction.text import TfidfVectorizer\n",
    "from sklearn.linear_model import LogisticRegression\n",
    "from sklearn.metrics import accuracy_score, classification_report, precision_score, recall_score, f1_score\n",
    "from sklearn.model_selection import train_test_split\n",
    "import os\n",
    "import tkinter as tk\n",
    "from tkinter import messagebox\n",
    "\n",
    "# Download NLTK data if not already downloaded\n",
    "nltk.download('punkt')\n",
    "nltk.download('stopwords')"
   ]
  },
  {
   "cell_type": "code",
   "execution_count": 1,
   "id": "e031aa63",
   "metadata": {},
   "outputs": [
    {
     "name": "stdout",
     "output_type": "stream",
     "text": [
      "Defaulting to user installation because normal site-packages is not writeable\n",
      "Collecting tk\n",
      "  Downloading tk-0.1.0-py3-none-any.whl.metadata (693 bytes)\n",
      "Downloading tk-0.1.0-py3-none-any.whl (3.9 kB)\n",
      "Installing collected packages: tk\n",
      "Successfully installed tk-0.1.0\n",
      "Note: you may need to restart the kernel to use updated packages.\n"
     ]
    },
    {
     "name": "stderr",
     "output_type": "stream",
     "text": [
      "\n",
      "[notice] A new release of pip is available: 24.0 -> 24.1.2\n",
      "[notice] To update, run: python.exe -m pip install --upgrade pip\n"
     ]
    }
   ],
   "source": [
    "pip install tk\n"
   ]
  },
  {
   "cell_type": "code",
   "execution_count": null,
   "id": "d0f41e34",
   "metadata": {},
   "outputs": [],
   "source": []
  },
  {
   "cell_type": "code",
   "execution_count": 4,
   "id": "868f58d6",
   "metadata": {},
   "outputs": [],
   "source": [
    "\n",
    "# Initialize NLTK components\n",
    "stemmer = PorterStemmer()\n",
    "stop_words = set(stopwords.words('english'))"
   ]
  },
  {
   "cell_type": "code",
   "execution_count": 5,
   "id": "933a6e25",
   "metadata": {},
   "outputs": [],
   "source": [
    "def preprocessing(text):\n",
    "    if not isinstance(text, str):\n",
    "        text = ''\n",
    "    text = re.sub(r'\\d+', '', text)  # Remove digits\n",
    "    text = re.sub(r'[^\\w\\s]', '', text)  # Remove punctuation\n",
    "    text = text.lower()  # Convert to lowercase\n",
    "    words = nltk.word_tokenize(text)  # Tokenize\n",
    "    filtered_words = [word for word in words if word not in stop_words]  # Remove stop words\n",
    "    stemmed_words = [stemmer.stem(word) for word in filtered_words]  # Stem each word\n",
    "    clean_text = ' '.join(stemmed_words)\n",
    "    return clean_text if clean_text else ' '"
   ]
  },
  {
   "cell_type": "code",
   "execution_count": 6,
   "id": "a3b8dfd6",
   "metadata": {},
   "outputs": [],
   "source": [
    "\n",
    "# Function to load data\n",
    "def load_data(file_path, is_train=True):\n",
    "    if is_train:\n",
    "        data = pd.read_csv(file_path, delimiter=' ::: ', engine='python', names=['ID', 'TITLE', 'GENRE', 'DESCRIPTION'])\n",
    "    else:\n",
    "        data = pd.read_csv(file_path, delimiter=' ::: ', engine='python', names=['ID', 'TITLE', 'DESCRIPTION'])\n",
    "    return data"
   ]
  },
  {
   "cell_type": "code",
   "execution_count": 7,
   "id": "0d7d66bb",
   "metadata": {},
   "outputs": [],
   "source": [
    "# Paths for the model and vectorizer\n",
    "model_path = 'logistic_regression_genre.pkl'\n",
    "tfidf_path = 'tfidf_vectorizer.pkl'"
   ]
  },
  {
   "cell_type": "code",
   "execution_count": null,
   "id": "2d142725",
   "metadata": {},
   "outputs": [
    {
     "name": "stdout",
     "output_type": "stream",
     "text": [
      "Loaded pre-trained model and vectorizer.\n"
     ]
    }
   ],
   "source": [
    "\n",
    "# Check if the model and vectorizer files exist\n",
    "if os.path.exists(model_path) and os.path.exists(tfidf_path):\n",
    "    # Load the pre-trained model and TF-IDF vectorizer\n",
    "    model = joblib.load(model_path)\n",
    "    tfidf = joblib.load(tfidf_path)\n",
    "    print(\"Loaded pre-trained model and vectorizer.\")\n",
    "else:\n",
    "    # Load training data\n",
    "    train_data = load_data('train_data.txt', is_train=True)\n",
    "\n",
    "    # Clean and stem the plot descriptions\n",
    "    train_data['clean_description'] = train_data['DESCRIPTION'].apply(preprocessing)\n",
    "     # TF-IDF vectorization\n",
    "    tfidf = TfidfVectorizer(stop_words='english')\n",
    "    X = tfidf.fit_transform(train_data['clean_description'])\n",
    "    y = train_data['GENRE']\n",
    "\n",
    "    # Split data into training and validation sets\n",
    "    X_train, X_val, y_train, y_val = train_test_split(X, y, test_size=0.2, random_state=42)\n",
    "\n",
    "    # Initialize and train the Logistic Regression classifier\n",
    "    model = LogisticRegression(max_iter=1000)\n",
    "    model.fit(X_train, y_train)\n",
    "\n",
    "    # Save the model and TF-IDF vectorizer\n",
    "    joblib.dump(model, model_path)\n",
    "    joblib.dump(tfidf, tfidf_path)\n",
    "    print(\"Trained and saved the model and vectorizer.\")\n",
    "\n",
    "    # Predict on validation set to compute accuracy measures\n",
    "    y_val_pred = model.predict(X_val)\n",
    "    accuracy = accuracy_score(y_val, y_val_pred)\n",
    "    precision = precision_score(y_val, y_val_pred, average='weighted')\n",
    "    recall = recall_score(y_val, y_val_pred, average='weighted')\n",
    "    f1 = f1_score(y_val, y_val_pred, average='weighted')\n",
    "    report = classification_report(y_val, y_val_pred)\n",
    "\n",
    "    print(f'Model Accuracy on Validation Set: {accuracy:.4f}')\n",
    "    print(f'Precision on Validation Set: {precision:.4f}')\n",
    "    print(f'Recall on Validation Set: {recall:.4f}')\n",
    "    print(f'F1 Score on Validation Set: {f1:.4f}\\n')\n",
    "\n",
    "# Load test data\n",
    "test_data = load_data('test_data.txt', is_train=False)\n",
    "\n",
    "# Clean and stem the plot descriptions for test data\n",
    "test_data['clean_description'] = test_data['DESCRIPTION'].apply(preprocessing)\n",
    "\n",
    "# Transform test data using the TF-IDF vectorizer\n",
    "X_test = tfidf.transform(test_data['clean_description'])\n",
    "\n",
    "# Predict genres for test data\n",
    "y_test_pred = model.predict(X_test)\n",
    "\n",
    "# Function to predict genre\n",
    "def predict_genre(user_query):\n",
    "    clean_query = preprocessing(user_query)\n",
    "    if clean_query is None:\n",
    "        return None\n",
    "    query_tfidf = tfidf.transform([clean_query])\n",
    "    predicted_genre = model.predict(query_tfidf)\n",
    "    return predicted_genre[0]\n",
    "\n",
    "# Function to handle GUI interaction\n",
    "def on_search():\n",
    "    user_query = query_entry.get(\"1.0\", tk.END).strip()\n",
    "    if user_query:\n",
    "        predicted_genre = predict_genre(user_query)\n",
    "        result_label.config(text=f'Predicted Genre: {predicted_genre}')\n",
    "    else:\n",
    "        messagebox.showwarning(\"Input Error\", \"Please enter a valid query.\")\n",
    "# Create the main GUI window\n",
    "root = tk.Tk()\n",
    "root.title(\"Genre Prediction\")\n",
    "\n",
    "# Set the window size\n",
    "root.geometry(\"500x300\")\n",
    "\n",
    "# Set the background color to black\n",
    "root.configure(bg='black')\n",
    "\n",
    "# Create and place the text box for user input\n",
    "query_entry = tk.Text(root, height=10, width=50, bg='black', fg='white', insertbackground='white')\n",
    "query_entry.pack(pady=10)\n",
    "\n",
    "# Create and place the \"Search\" button\n",
    "search_button = tk.Button(root, text=\"Search\", command=on_search, bg='black', fg='white')\n",
    "search_button.pack(pady=10)\n",
    "\n",
    "# Create and place the label to display the result\n",
    "result_label = tk.Label(root, text=\"Predicted Genre: \", font=(\"Helvetica\", 14), bg='black', fg='white')\n",
    "result_label.pack(pady=10)\n",
    "\n",
    "# Run the GUI event loop\n",
    "root.mainloop()\n"
   ]
  }
 ],
 "metadata": {
  "kernelspec": {
   "display_name": "Python 3 (ipykernel)",
   "language": "python",
   "name": "python3"
  },
  "language_info": {
   "codemirror_mode": {
    "name": "ipython",
    "version": 3
   },
   "file_extension": ".py",
   "mimetype": "text/x-python",
   "name": "python",
   "nbconvert_exporter": "python",
   "pygments_lexer": "ipython3",
   "version": "3.11.5"
  }
 },
 "nbformat": 4,
 "nbformat_minor": 5
}
